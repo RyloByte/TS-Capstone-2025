{
  "cells": [
    {
      "cell_type": "markdown",
      "source": [
        "# Hyperpackage Creation v1.0\n",
        "This Colab UI is an easy-to-use guide for the Hyperpackage Creation software. This snakemake workflow extends the functionality of TreeSAPP to create composite reference packages (phylogentic trees + other tools) based on functional homology via Rhea ID, EC number, or other groupings rather than from manually curated collections of protein sequences.\n",
        "\n",
        "Follow the steps in this notebook to create your own Hyperpackage or follow this in-depth tutorial."
      ],
      "metadata": {
        "id": "49aloJ01y5tR"
      }
    },
    {
      "cell_type": "code",
      "execution_count": 2,
      "metadata": {
        "colab": {
          "base_uri": "https://localhost:8080/"
        },
        "id": "e4a5Vfleyeaw",
        "outputId": "f1b76619-912f-4dee-c5b0-8d89ec8034f7"
      },
      "outputs": [
        {
          "output_type": "stream",
          "name": "stdout",
          "text": [
            "Requirement already satisfied: snakemake in /usr/local/lib/python3.11/dist-packages (9.1.10)\n",
            "Requirement already satisfied: appdirs in /usr/local/lib/python3.11/dist-packages (from snakemake) (1.4.4)\n",
            "Requirement already satisfied: immutables in /usr/local/lib/python3.11/dist-packages (from snakemake) (0.21)\n",
            "Requirement already satisfied: configargparse in /usr/local/lib/python3.11/dist-packages (from snakemake) (1.7)\n",
            "Requirement already satisfied: connection_pool>=0.0.3 in /usr/local/lib/python3.11/dist-packages (from snakemake) (0.0.3)\n",
            "Requirement already satisfied: docutils in /usr/local/lib/python3.11/dist-packages (from snakemake) (0.21.2)\n",
            "Requirement already satisfied: gitpython in /usr/local/lib/python3.11/dist-packages (from snakemake) (3.1.44)\n",
            "Requirement already satisfied: humanfriendly in /usr/local/lib/python3.11/dist-packages (from snakemake) (10.0)\n",
            "Requirement already satisfied: jinja2<4.0,>=3.0 in /usr/local/lib/python3.11/dist-packages (from snakemake) (3.1.6)\n",
            "Requirement already satisfied: jsonschema in /usr/local/lib/python3.11/dist-packages (from snakemake) (4.23.0)\n",
            "Requirement already satisfied: nbformat in /usr/local/lib/python3.11/dist-packages (from snakemake) (5.10.4)\n",
            "Requirement already satisfied: packaging in /usr/local/lib/python3.11/dist-packages (from snakemake) (24.2)\n",
            "Requirement already satisfied: psutil in /usr/local/lib/python3.11/dist-packages (from snakemake) (5.9.5)\n",
            "Requirement already satisfied: pulp<3.1,>=2.3.1 in /usr/local/lib/python3.11/dist-packages (from snakemake) (3.0.2)\n",
            "Requirement already satisfied: pyyaml in /usr/local/lib/python3.11/dist-packages (from snakemake) (6.0.2)\n",
            "Requirement already satisfied: requests<3.0,>=2.8.1 in /usr/local/lib/python3.11/dist-packages (from snakemake) (2.32.3)\n",
            "Requirement already satisfied: reretry in /usr/local/lib/python3.11/dist-packages (from snakemake) (0.11.8)\n",
            "Requirement already satisfied: smart-open<8.0,>=4.0 in /usr/local/lib/python3.11/dist-packages (from snakemake) (7.1.0)\n",
            "Requirement already satisfied: snakemake-interface-executor-plugins<10.0,>=9.3.2 in /usr/local/lib/python3.11/dist-packages (from snakemake) (9.3.5)\n",
            "Requirement already satisfied: snakemake-interface-common<2.0,>=1.17.0 in /usr/local/lib/python3.11/dist-packages (from snakemake) (1.17.4)\n",
            "Requirement already satisfied: snakemake-interface-storage-plugins<5.0,>=4.1.0 in /usr/local/lib/python3.11/dist-packages (from snakemake) (4.2.1)\n",
            "Requirement already satisfied: snakemake-interface-report-plugins<2.0.0,>=1.1.0 in /usr/local/lib/python3.11/dist-packages (from snakemake) (1.1.0)\n",
            "Requirement already satisfied: snakemake-interface-logger-plugins<2.0.0,>=1.1.0 in /usr/local/lib/python3.11/dist-packages (from snakemake) (1.2.3)\n",
            "Requirement already satisfied: tabulate in /usr/local/lib/python3.11/dist-packages (from snakemake) (0.9.0)\n",
            "Requirement already satisfied: throttler in /usr/local/lib/python3.11/dist-packages (from snakemake) (1.2.2)\n",
            "Requirement already satisfied: wrapt in /usr/local/lib/python3.11/dist-packages (from snakemake) (1.17.2)\n",
            "Requirement already satisfied: yte<2.0,>=1.5.5 in /usr/local/lib/python3.11/dist-packages (from snakemake) (1.7.0)\n",
            "Requirement already satisfied: dpath<3.0.0,>=2.1.6 in /usr/local/lib/python3.11/dist-packages (from snakemake) (2.2.0)\n",
            "Requirement already satisfied: conda-inject<2.0,>=1.3.1 in /usr/local/lib/python3.11/dist-packages (from snakemake) (1.3.2)\n",
            "Requirement already satisfied: MarkupSafe>=2.0 in /usr/local/lib/python3.11/dist-packages (from jinja2<4.0,>=3.0->snakemake) (3.0.2)\n",
            "Requirement already satisfied: charset-normalizer<4,>=2 in /usr/local/lib/python3.11/dist-packages (from requests<3.0,>=2.8.1->snakemake) (3.4.1)\n",
            "Requirement already satisfied: idna<4,>=2.5 in /usr/local/lib/python3.11/dist-packages (from requests<3.0,>=2.8.1->snakemake) (3.10)\n",
            "Requirement already satisfied: urllib3<3,>=1.21.1 in /usr/local/lib/python3.11/dist-packages (from requests<3.0,>=2.8.1->snakemake) (2.3.0)\n",
            "Requirement already satisfied: certifi>=2017.4.17 in /usr/local/lib/python3.11/dist-packages (from requests<3.0,>=2.8.1->snakemake) (2025.1.31)\n",
            "Requirement already satisfied: argparse-dataclass<3.0.0,>=2.0.0 in /usr/local/lib/python3.11/dist-packages (from snakemake-interface-common<2.0,>=1.17.0->snakemake) (2.0.0)\n",
            "Requirement already satisfied: plac<2.0.0,>=1.3.4 in /usr/local/lib/python3.11/dist-packages (from yte<2.0,>=1.5.5->snakemake) (1.4.5)\n",
            "Requirement already satisfied: gitdb<5,>=4.0.1 in /usr/local/lib/python3.11/dist-packages (from gitpython->snakemake) (4.0.12)\n",
            "Requirement already satisfied: attrs>=22.2.0 in /usr/local/lib/python3.11/dist-packages (from jsonschema->snakemake) (25.3.0)\n",
            "Requirement already satisfied: jsonschema-specifications>=2023.03.6 in /usr/local/lib/python3.11/dist-packages (from jsonschema->snakemake) (2024.10.1)\n",
            "Requirement already satisfied: referencing>=0.28.4 in /usr/local/lib/python3.11/dist-packages (from jsonschema->snakemake) (0.36.2)\n",
            "Requirement already satisfied: rpds-py>=0.7.1 in /usr/local/lib/python3.11/dist-packages (from jsonschema->snakemake) (0.24.0)\n",
            "Requirement already satisfied: fastjsonschema>=2.15 in /usr/local/lib/python3.11/dist-packages (from nbformat->snakemake) (2.21.1)\n",
            "Requirement already satisfied: jupyter-core!=5.0.*,>=4.12 in /usr/local/lib/python3.11/dist-packages (from nbformat->snakemake) (5.7.2)\n",
            "Requirement already satisfied: traitlets>=5.1 in /usr/local/lib/python3.11/dist-packages (from nbformat->snakemake) (5.7.1)\n",
            "Requirement already satisfied: smmap<6,>=3.0.1 in /usr/local/lib/python3.11/dist-packages (from gitdb<5,>=4.0.1->gitpython->snakemake) (5.0.2)\n",
            "Requirement already satisfied: platformdirs>=2.5 in /usr/local/lib/python3.11/dist-packages (from jupyter-core!=5.0.*,>=4.12->nbformat->snakemake) (4.3.7)\n",
            "Requirement already satisfied: typing-extensions>=4.4.0 in /usr/local/lib/python3.11/dist-packages (from referencing>=0.28.4->jsonschema->snakemake) (4.13.1)\n",
            "Get:1 http://security.ubuntu.com/ubuntu jammy-security InRelease [129 kB]\n",
            "Hit:2 https://developer.download.nvidia.com/compute/cuda/repos/ubuntu2204/x86_64  InRelease\n",
            "Hit:3 https://cloud.r-project.org/bin/linux/ubuntu jammy-cran40/ InRelease\n",
            "Get:4 https://r2u.stat.illinois.edu/ubuntu jammy InRelease [6,555 B]\n",
            "Hit:5 http://archive.ubuntu.com/ubuntu jammy InRelease\n",
            "Hit:6 http://archive.ubuntu.com/ubuntu jammy-updates InRelease\n",
            "Hit:7 http://archive.ubuntu.com/ubuntu jammy-backports InRelease\n",
            "Hit:8 https://ppa.launchpadcontent.net/deadsnakes/ppa/ubuntu jammy InRelease\n",
            "Hit:9 https://ppa.launchpadcontent.net/graphics-drivers/ppa/ubuntu jammy InRelease\n",
            "Hit:10 https://ppa.launchpadcontent.net/ubuntugis/ppa/ubuntu jammy InRelease\n",
            "Fetched 135 kB in 1s (93.0 kB/s)\n",
            "Reading package lists... Done\n",
            "W: Skipping acquire of configured file 'main/source/Sources' as repository 'https://r2u.stat.illinois.edu/ubuntu jammy InRelease' does not seem to provide it (sources.list entry misspelt?)\n",
            "Reading package lists... Done\n",
            "Building dependency tree... Done\n",
            "Reading state information... Done\n",
            "graphviz is already the newest version (2.42.2-6ubuntu0.1).\n",
            "0 upgraded, 0 newly installed, 0 to remove and 32 not upgraded.\n",
            "Cloning into 'TS-Capstone-2025'...\n",
            "remote: Enumerating objects: 1051, done.\u001b[K\n",
            "remote: Counting objects: 100% (266/266), done.\u001b[K\n",
            "remote: Compressing objects: 100% (124/124), done.\u001b[K\n",
            "remote: Total 1051 (delta 155), reused 208 (delta 122), pack-reused 785 (from 2)\u001b[K\n",
            "Receiving objects: 100% (1051/1051), 38.28 MiB | 28.55 MiB/s, done.\n",
            "Resolving deltas: 100% (475/475), done.\n",
            "/content/TS-Capstone-2025/TS-Capstone-2025\n"
          ]
        }
      ],
      "source": [
        "#@title Install Dependencies\n",
        "\n",
        "!pip install snakemake\n",
        "!pip install miniconda\n",
        "!apt-get update && apt-get install -y graphviz\n",
        "!git clone https://github.com/RyloByte/TS-Capstone-2025.git\n",
        "%cd TS-Capstone-2025\n",
        "!conda env create -f environment.yaml\n",
        "!conda activate snakemake_env"
      ]
    },
    {
      "cell_type": "markdown",
      "source": [
        "# Hyperpackage Creation"
      ],
      "metadata": {
        "id": "xrGyc9r_zD9D"
      }
    },
    {
      "cell_type": "code",
      "source": [
        "# Configuration\n",
        "# Select Rhea-ID or EC number\n",
        "# Select any other configurations - Show a detailed version\n",
        "# Select Utils or download Utils\n",
        "!pwd\n",
        "!cd /content/TS-Capstone-2025/\n",
        "!pwd\n"
      ],
      "metadata": {
        "colab": {
          "base_uri": "https://localhost:8080/"
        },
        "id": "l5uXDqdL6O9j",
        "outputId": "9273670a-d802-47ac-8cf4-be4386c5f839"
      },
      "execution_count": 15,
      "outputs": [
        {
          "output_type": "stream",
          "name": "stdout",
          "text": [
            "/content/TS-Capstone-2025/TS-Capstone-2025\n",
            "/content/TS-Capstone-2025/TS-Capstone-2025\n"
          ]
        }
      ]
    },
    {
      "cell_type": "code",
      "source": [
        "!cp config.yaml.example config.yaml\n",
        "!snakemake --use-conda data/hyperpackages/rhea_10596.refpkg.tar.gz"
      ],
      "metadata": {
        "id": "TH20t73tGorx",
        "outputId": "2630187a-6821-4e67-e1a1-fc1655203df2",
        "colab": {
          "base_uri": "https://localhost:8080/"
        }
      },
      "execution_count": 9,
      "outputs": [
        {
          "output_type": "stream",
          "name": "stdout",
          "text": [
            "WorkflowError in file \"/content/TS-Capstone-2025/TS-Capstone-2025/workflow/Snakefile\", line 1:\n",
            "Workflow defines configfile config.yaml but it is not present or accessible (full checked path: /content/TS-Capstone-2025/TS-Capstone-2025/config.yaml).\n"
          ]
        }
      ]
    },
    {
      "cell_type": "code",
      "source": [
        "# Run hyperpackage creation\n",
        "\n",
        "import ipywidgets as widgets\n",
        "from IPython.display import display, Markdown\n",
        "import subprocess\n",
        "\n",
        "# input_file = widgets.Text(value='data/example.fasta', description='Input File:')\n",
        "run_button = widgets.Button(description=\"Run Pipeline\")\n",
        "\n",
        "rhea_id = widgets.Text(value='10596', description='Rhea ID:')\n",
        "\n",
        "def on_button_clicked(b):\n",
        "    print(\"Running Snakemake...\")\n",
        "    command = f\"snakemake --use-conda data/hyperpackage/rhea_{rhea_id}.refpkg.tar.gz\"\n",
        "    result = subprocess.run(command, shell=True, capture_output=True, text=True)\n",
        "    print(result.stdout)\n",
        "    if result.stderr:\n",
        "        print(\"ERROR:\\n\", result.stderr)\n",
        "\n",
        "display(rhea_id, run_button)\n",
        "run_button.on_click(on_button_clicked)"
      ],
      "metadata": {
        "colab": {
          "base_uri": "https://localhost:8080/",
          "height": 170,
          "referenced_widgets": [
            "db4c21fb208b4e18ab9670d7683056b8",
            "badf165faa264036a1fc8dcbc06bf621",
            "5de311b7332945d9b24b28fb61b2efb7",
            "786f162f2b6e4bbab34a922fa3f58b94",
            "e7f9840fbf8945a78dbb2725fc31f11d",
            "7c31f824790a4a26b26fd6776b11375d"
          ]
        },
        "id": "oarFZ0yJ6Yi2",
        "outputId": "8331c9c1-e474-476e-8275-27994562807b"
      },
      "execution_count": 8,
      "outputs": [
        {
          "output_type": "display_data",
          "data": {
            "text/plain": [
              "Text(value='10596', description='Rhea ID:')"
            ],
            "application/vnd.jupyter.widget-view+json": {
              "version_major": 2,
              "version_minor": 0,
              "model_id": "db4c21fb208b4e18ab9670d7683056b8"
            }
          },
          "metadata": {}
        },
        {
          "output_type": "display_data",
          "data": {
            "text/plain": [
              "Button(description='Run Pipeline', style=ButtonStyle())"
            ],
            "application/vnd.jupyter.widget-view+json": {
              "version_major": 2,
              "version_minor": 0,
              "model_id": "786f162f2b6e4bbab34a922fa3f58b94"
            }
          },
          "metadata": {}
        },
        {
          "output_type": "stream",
          "name": "stdout",
          "text": [
            "Running Snakemake...\n",
            "\n",
            "ERROR:\n",
            " /bin/sh: 1: Syntax error: \"(\" unexpected\n",
            "\n"
          ]
        }
      ]
    },
    {
      "cell_type": "code",
      "source": [
        "# Look at statistics"
      ],
      "metadata": {
        "id": "esIOeMUR6aKD"
      },
      "execution_count": null,
      "outputs": []
    },
    {
      "cell_type": "code",
      "source": [
        "# Save Hyperpackage"
      ],
      "metadata": {
        "id": "lttqz06n6dxR"
      },
      "execution_count": null,
      "outputs": []
    },
    {
      "cell_type": "markdown",
      "source": [
        "# Hyperpackage TreeSAPPAssign"
      ],
      "metadata": {
        "id": "CQWI6p6w54By"
      }
    },
    {
      "cell_type": "code",
      "source": [
        "# Use Hyperpackage or select"
      ],
      "metadata": {
        "id": "WIxcsbNR6jFa"
      },
      "execution_count": null,
      "outputs": []
    },
    {
      "cell_type": "code",
      "source": [
        "import ipywidgets as widgets\n",
        "from IPython.display import display, Markdown\n",
        "import subprocess\n",
        "\n",
        "input_file = widgets.Text(value='data/example.fasta', description='Input File:')\n",
        "run_button = widgets.Button(description=\"Run Pipeline\")\n",
        "\n",
        "def on_button_clicked(b):\n",
        "    print(\"Running Snakemake...\")\n",
        "    command = f\"snakemake --cores 2 --config input={input_file.value}\"\n",
        "    result = subprocess.run(command, shell=True, capture_output=True, text=True)\n",
        "    print(result.stdout)\n",
        "    if result.stderr:\n",
        "        print(\"ERROR:\\n\", result.stderr)\n",
        "\n",
        "display(input_file, run_button)\n",
        "run_button.on_click(on_button_clicked)"
      ],
      "metadata": {
        "id": "4YE1hiLN7Hxw"
      },
      "execution_count": null,
      "outputs": []
    }
  ],
  "metadata": {
    "kernelspec": {
      "display_name": "Python 3",
      "language": "python",
      "name": "python3"
    },
    "language_info": {
      "name": "python",
      "version": "3.10"
    },
    "colab": {
      "provenance": []
    },
    "widgets": {
      "application/vnd.jupyter.widget-state+json": {
        "db4c21fb208b4e18ab9670d7683056b8": {
          "model_module": "@jupyter-widgets/controls",
          "model_name": "TextModel",
          "model_module_version": "1.5.0",
          "state": {
            "_dom_classes": [],
            "_model_module": "@jupyter-widgets/controls",
            "_model_module_version": "1.5.0",
            "_model_name": "TextModel",
            "_view_count": null,
            "_view_module": "@jupyter-widgets/controls",
            "_view_module_version": "1.5.0",
            "_view_name": "TextView",
            "continuous_update": true,
            "description": "Rhea ID:",
            "description_tooltip": null,
            "disabled": false,
            "layout": "IPY_MODEL_badf165faa264036a1fc8dcbc06bf621",
            "placeholder": "​",
            "style": "IPY_MODEL_5de311b7332945d9b24b28fb61b2efb7",
            "value": "10596"
          }
        },
        "badf165faa264036a1fc8dcbc06bf621": {
          "model_module": "@jupyter-widgets/base",
          "model_name": "LayoutModel",
          "model_module_version": "1.2.0",
          "state": {
            "_model_module": "@jupyter-widgets/base",
            "_model_module_version": "1.2.0",
            "_model_name": "LayoutModel",
            "_view_count": null,
            "_view_module": "@jupyter-widgets/base",
            "_view_module_version": "1.2.0",
            "_view_name": "LayoutView",
            "align_content": null,
            "align_items": null,
            "align_self": null,
            "border": null,
            "bottom": null,
            "display": null,
            "flex": null,
            "flex_flow": null,
            "grid_area": null,
            "grid_auto_columns": null,
            "grid_auto_flow": null,
            "grid_auto_rows": null,
            "grid_column": null,
            "grid_gap": null,
            "grid_row": null,
            "grid_template_areas": null,
            "grid_template_columns": null,
            "grid_template_rows": null,
            "height": null,
            "justify_content": null,
            "justify_items": null,
            "left": null,
            "margin": null,
            "max_height": null,
            "max_width": null,
            "min_height": null,
            "min_width": null,
            "object_fit": null,
            "object_position": null,
            "order": null,
            "overflow": null,
            "overflow_x": null,
            "overflow_y": null,
            "padding": null,
            "right": null,
            "top": null,
            "visibility": null,
            "width": null
          }
        },
        "5de311b7332945d9b24b28fb61b2efb7": {
          "model_module": "@jupyter-widgets/controls",
          "model_name": "DescriptionStyleModel",
          "model_module_version": "1.5.0",
          "state": {
            "_model_module": "@jupyter-widgets/controls",
            "_model_module_version": "1.5.0",
            "_model_name": "DescriptionStyleModel",
            "_view_count": null,
            "_view_module": "@jupyter-widgets/base",
            "_view_module_version": "1.2.0",
            "_view_name": "StyleView",
            "description_width": ""
          }
        },
        "786f162f2b6e4bbab34a922fa3f58b94": {
          "model_module": "@jupyter-widgets/controls",
          "model_name": "ButtonModel",
          "model_module_version": "1.5.0",
          "state": {
            "_dom_classes": [],
            "_model_module": "@jupyter-widgets/controls",
            "_model_module_version": "1.5.0",
            "_model_name": "ButtonModel",
            "_view_count": null,
            "_view_module": "@jupyter-widgets/controls",
            "_view_module_version": "1.5.0",
            "_view_name": "ButtonView",
            "button_style": "",
            "description": "Run Pipeline",
            "disabled": false,
            "icon": "",
            "layout": "IPY_MODEL_e7f9840fbf8945a78dbb2725fc31f11d",
            "style": "IPY_MODEL_7c31f824790a4a26b26fd6776b11375d",
            "tooltip": ""
          }
        },
        "e7f9840fbf8945a78dbb2725fc31f11d": {
          "model_module": "@jupyter-widgets/base",
          "model_name": "LayoutModel",
          "model_module_version": "1.2.0",
          "state": {
            "_model_module": "@jupyter-widgets/base",
            "_model_module_version": "1.2.0",
            "_model_name": "LayoutModel",
            "_view_count": null,
            "_view_module": "@jupyter-widgets/base",
            "_view_module_version": "1.2.0",
            "_view_name": "LayoutView",
            "align_content": null,
            "align_items": null,
            "align_self": null,
            "border": null,
            "bottom": null,
            "display": null,
            "flex": null,
            "flex_flow": null,
            "grid_area": null,
            "grid_auto_columns": null,
            "grid_auto_flow": null,
            "grid_auto_rows": null,
            "grid_column": null,
            "grid_gap": null,
            "grid_row": null,
            "grid_template_areas": null,
            "grid_template_columns": null,
            "grid_template_rows": null,
            "height": null,
            "justify_content": null,
            "justify_items": null,
            "left": null,
            "margin": null,
            "max_height": null,
            "max_width": null,
            "min_height": null,
            "min_width": null,
            "object_fit": null,
            "object_position": null,
            "order": null,
            "overflow": null,
            "overflow_x": null,
            "overflow_y": null,
            "padding": null,
            "right": null,
            "top": null,
            "visibility": null,
            "width": null
          }
        },
        "7c31f824790a4a26b26fd6776b11375d": {
          "model_module": "@jupyter-widgets/controls",
          "model_name": "ButtonStyleModel",
          "model_module_version": "1.5.0",
          "state": {
            "_model_module": "@jupyter-widgets/controls",
            "_model_module_version": "1.5.0",
            "_model_name": "ButtonStyleModel",
            "_view_count": null,
            "_view_module": "@jupyter-widgets/base",
            "_view_module_version": "1.2.0",
            "_view_name": "StyleView",
            "button_color": null,
            "font_weight": ""
          }
        }
      }
    }
  },
  "nbformat": 4,
  "nbformat_minor": 0
}