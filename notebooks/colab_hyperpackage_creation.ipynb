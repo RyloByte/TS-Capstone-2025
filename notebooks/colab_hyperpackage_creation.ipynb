{
 "cells": [
  {
   "cell_type": "markdown",
   "metadata": {},
   "source": [
    "# Snakemake Colab UI\n",
    "Run your pipeline from Colab!"
   ]
  },
  {
   "cell_type": "code",
   "execution_count": null,
   "metadata": {},
   "outputs": [],
   "source": [
    "!pip install snakemake\n",
    "!apt-get update && apt-get install -y graphviz\n",
    "!git clone https://github.com/YOUR_USERNAME/YOUR_REPO_NAME.git\n",
    "%cd YOUR_REPO_NAME"
   ]
  },
  {
   "cell_type": "code",
   "execution_count": null,
   "metadata": {},
   "outputs": [],
   "source": [
    "import ipywidgets as widgets\n",
    "from IPython.display import display, Markdown\n",
    "import subprocess\n",
    "\n",
    "input_file = widgets.Text(value='data/example.fasta', description='Input File:')\n",
    "run_button = widgets.Button(description=\"Run Pipeline\")\n",
    "\n",
    "def on_button_clicked(b):\n",
    "    print(\"Running Snakemake...\")\n",
    "    command = f\"snakemake --cores 2 --config input={input_file.value}\"\n",
    "    result = subprocess.run(command, shell=True, capture_output=True, text=True)\n",
    "    print(result.stdout)\n",
    "    if result.stderr:\n",
    "        print(\"ERROR:\\n\", result.stderr)\n",
    "\n",
    "display(input_file, run_button)\n",
    "run_button.on_click(on_button_clicked)"
   ]
  }
 ],
 "metadata": {
  "kernelspec": {
   "display_name": "Python 3",
   "language": "python",
   "name": "python3"
  },
  "language_info": {
   "name": "python",
   "version": "3.10"
  }
 },
 "nbformat": 4,
 "nbformat_minor": 0
}
