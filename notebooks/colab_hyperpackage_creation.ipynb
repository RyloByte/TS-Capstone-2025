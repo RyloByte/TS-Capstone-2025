{
  "cells": [
    {
      "cell_type": "markdown",
      "metadata": {
        "id": "view-in-github",
        "colab_type": "text"
      },
      "source": [
        "<a href=\"https://colab.research.google.com/github/RyloByte/TS-Capstone-2025/blob/%2336/notebooks/colab_hyperpackage_creation.ipynb\" target=\"_parent\"><img src=\"https://colab.research.google.com/assets/colab-badge.svg\" alt=\"Open In Colab\"/></a>"
      ]
    },
    {
      "cell_type": "markdown",
      "source": [
        "# Hyperpackage Creation v1.0\n",
        "This Colab UI is an easy-to-use guide for the Hyperpackage Creation software. This snakemake workflow extends the functionality of TreeSAPP to create composite reference packages (phylogentic trees + other tools) based on functional homology via Rhea ID, EC number, or other groupings rather than from manually curated collections of protein sequences.\n",
        "\n",
        "Follow the steps in this notebook to create your own Hyperpackage or follow this in-depth tutorial."
      ],
      "metadata": {
        "id": "49aloJ01y5tR"
      }
    },
    {
      "cell_type": "code",
      "execution_count": null,
      "metadata": {
        "id": "e4a5Vfleyeaw",
        "collapsed": true,
        "cellView": "form"
      },
      "outputs": [],
      "source": [
        "#@title Install Dependencies\n",
        "!cd /content\n",
        "!pip install snakemake\n",
        "!pip install miniconda\n",
        "!apt-get update && apt-get install -y graphviz\n",
        "!git clone --branch '#36' --single-branch https://github.com/RyloByte/TS-Capstone-2025.git\n",
        "%cd TS-Capstone-2025\n",
        "!cp config.yaml.example config.yaml\n",
        "\n",
        "import os\n",
        "os.system(\"wget -qnc https://github.com/conda-forge/miniforge/releases/latest/download/Miniforge3-Linux-x86_64.sh\")\n",
        "os.system(\"bash Miniforge3-Linux-x86_64.sh -bfp /usr/local\")\n",
        "\n",
        "import sys\n",
        "sys.path.append(\"/usr/local/lib/python3.10/site-packages\")\n",
        "os.system(\"ln -s /usr/local/bin/conda /usr/bin/conda\")\n",
        "os.system(\"conda --version\")\n",
        "\n",
        "!conda env create -f environment.yaml"
      ]
    },
    {
      "cell_type": "markdown",
      "source": [
        "# Hyperpackage Creation"
      ],
      "metadata": {
        "id": "xrGyc9r_zD9D"
      }
    },
    {
      "cell_type": "code",
      "source": [
        "#@title Configuration\n",
        "ID_type = 'Rhea-ID' #@param [\"Rhea-ID\", \"EC-Number\"]{allow-input: false}\n",
        "ID = '10596' #@param {type:\"string\"}\n",
        "\n",
        "#@markdown Link to finding Rhea or EC numbers\n",
        "\n",
        "if ID_type == 'Rhea-ID':\n",
        "    sample = 'rhea_' + ID\n",
        "elif ID_type == 'EC-Number':\n",
        "    sample = 'ec_' + ID"
      ],
      "metadata": {
        "id": "l5uXDqdL6O9j",
        "collapsed": true,
        "cellView": "form"
      },
      "execution_count": null,
      "outputs": []
    },
    {
      "cell_type": "code",
      "source": [
        "#@title Advanced Configuration - No Need To Run If Using Default Settings { display-mode: \"form\" }\n",
        "\n",
        "#@markdown ### Cluster Database Settings\n",
        "Chunk_Size = 10_000_000  #@param {type:\"integer\", min:1}\n",
        "\n",
        "#@markdown ---\n",
        "#@markdown ### Structure Clustering Settings\n",
        "Min_StructCluster_Size = 5  #@param {type:\"integer\", min:1}\n",
        "Max_StructCluster_Size = None  #@param {type:\"raw\"}\n",
        "\n",
        "#@markdown ---\n",
        "#@markdown ### Sequence Clustering Settings\n",
        "Mute_MMSeqs_Output = True  #@param {type:\"boolean\"}\n",
        "Min_SeqCluster_Size = 5  #@param {type:\"integer\", min:1}\n",
        "Max_SeqCluster_Size = None  #@param {type:\"raw\"}\n",
        "\n",
        "#@markdown ---\n",
        "#@markdown ### MMseqs2 Parameters\n",
        "Min_Seq_ID = 0.9  #@param {type:\"number\", min:0.0, max:1.0}\n",
        "Cov_Mode = 5  #@param {type:\"integer\", min:0, max:5}\n",
        "Kmer_size = 15  #@param {type:\"integer\", min:1}\n",
        "Shuffle = 0  #@param [0, 1]\n",
        "Remove_Temp_Files = 0  #@param [0, 1]\n",
        "Alignment_Mode = 3  #@param {type:\"integer\", min:0, max:3}\n",
        "Realign = 1  #@param [0, 1]\n",
        "\n",
        "#@markdown ---\n",
        "#@markdown ### TreeSAPP Create Settings\n",
        "Mute_TreeSAPP_Output = True  #@param {type:\"boolean\"}\n",
        "\n",
        "import ipywidgets as widgets\n",
        "from IPython.display import display\n",
        "from ipywidgets import interactive\n",
        "\n",
        "Extra_Arguments = \"\"  #@param {type:\"string\"}\n",
        "\n",
        "#@markdown ---\n",
        "#@markdown ### TreeSAPP Assign Settings - None Currently\n",
        "\n",
        "\n",
        "# ------------------- YAML Generation -------------------\n",
        "!pip install -q pyyaml\n",
        "import yaml\n",
        "\n",
        "config = {\n",
        "    \"cluster_db\": {\n",
        "        \"filter_by_sprot\": True,\n",
        "        \"chunk_size\": Chunk_Size,\n",
        "    },\n",
        "    \"structure_clustering\": {\n",
        "        \"min_cluster_size\": Min_StructCluster_Size,\n",
        "        \"max_cluster_size\": Max_StructCluster_Size,\n",
        "    },\n",
        "    \"sequence_clustering\": {\n",
        "        \"mute_mmseqs\": Mute_MMSeqs_Output,\n",
        "        \"min_cluster_size\": Min_SeqCluster_Size,\n",
        "        \"max_cluster_size\": Max_SeqCluster_Size,\n",
        "        \"mmseqs_args\": [\n",
        "            f\"--min-seq-id {Min_Seq_ID}\",\n",
        "            f\"--cov-mode {Cov_Mode}\",\n",
        "            f\"-k {Kmer_size}\",\n",
        "            f\"--shuffle {Shuffle}\",\n",
        "            f\"--remove-tmp-files {Remove_Temp_Files}\",\n",
        "            f\"--alignment-mode {Alignment_Mode}\",\n",
        "            f\"--realign {Realign}\",\n",
        "        ]\n",
        "    },\n",
        "    \"treesapp_create\": {\n",
        "        \"mute_treesapp\": Mute_TreeSAPP_Output,\n",
        "        \"extra_args\": Extra_Arguments.split() if Extra_Arguments else [],\n",
        "    },\n",
        "    \"treesapp_assign\": {\n",
        "        \"num_threads\": 2\n",
        "    }\n",
        "}\n",
        "\n",
        "# Write YAML to file\n",
        "with open(\"config.yaml\", \"w\") as f:\n",
        "    yaml.dump(config, f, default_flow_style=False)\n",
        "\n",
        "print(\"✅ Config file saved as `config.yaml`\")"
      ],
      "metadata": {
        "id": "r1BpT7O75QUv"
      },
      "execution_count": null,
      "outputs": []
    },
    {
      "cell_type": "code",
      "source": [
        "#@title Run TreeSAPP Create\n",
        "!conda run -n snakemake_env snakemake --use-conda data/hyperpackages/{sample}.refpkg.tar.gz"
      ],
      "metadata": {
        "collapsed": true,
        "cellView": "form",
        "id": "RxWJxcUhvhgc"
      },
      "execution_count": null,
      "outputs": []
    },
    {
      "cell_type": "code",
      "source": [
        "#@title Install TreeSAPP Assign Dependencies\n",
        "!conda create -n treesapp_cenv -c bioconda -c conda-forge -y\n",
        "!conda install -n treesapp_cenv -c bioconda -c conda-forge treesapp -y"
      ],
      "metadata": {
        "collapsed": true,
        "cellView": "form",
        "id": "M77QZXoTYv22"
      },
      "execution_count": null,
      "outputs": []
    },
    {
      "cell_type": "code",
      "source": [
        "#@title TreeSAPP Assign Steps\n",
        "#@markdown 1. Add your desired fasta file for TreeSAPP assign into `TS-Capstone-2025/data/assign_fastas` directory\n",
        "#@markdown 2. Input the name of your fasta file (without .fasta extension)\n",
        "fasta = \"geneX\" #@param {type:\"string\"}"
      ],
      "metadata": {
        "cellView": "form",
        "id": "6bGlHgunfJ0P"
      },
      "execution_count": null,
      "outputs": []
    },
    {
      "cell_type": "code",
      "source": [
        "#@title Run TreeSAPP Assign\n",
        "\n",
        "!snakemake --use-conda --cores 2 data/assigned_hyperpackages/{fasta}/{sample}.refpkg.tar.gz"
      ],
      "metadata": {
        "cellView": "form",
        "id": "l_UHo2XFqUwk"
      },
      "execution_count": null,
      "outputs": []
    },
    {
      "cell_type": "code",
      "source": [
        "#@title Save Hyperpackage\n",
        "from google.colab import files\n",
        "import os\n",
        "import shutil\n",
        "\n",
        "# Replace with your folder path\n",
        "folder_path = \"data/hyperpackages\"\n",
        "if os.path.isdir(folder_path):\n",
        "  shutil.make_archive(\"hyperpackages\", \"zip\", folder_path)\n",
        "  filepath = folder_path + \".zip\"\n",
        "  files.download(filepath)"
      ],
      "metadata": {
        "id": "lttqz06n6dxR",
        "cellView": "form"
      },
      "execution_count": null,
      "outputs": []
    },
    {
      "cell_type": "code",
      "source": [
        "#@title Save Assigned Hyperpackage\n",
        "from google.colab import files\n",
        "import os\n",
        "import shutil\n",
        "\n",
        "# Replace with your folder path\n",
        "folder_path = \"data/assigned_hyperpackages\"\n",
        "if os.path.isdir(folder_path):\n",
        "  shutil.make_archive(\"assigned_hyperpackages\", \"zip\", folder_path)\n",
        "  filepath = folder_path + \".zip\"\n",
        "  files.download(filepath)"
      ],
      "metadata": {
        "cellView": "form",
        "id": "h7saf6tG2pvD"
      },
      "execution_count": null,
      "outputs": []
    },
    {
      "cell_type": "code",
      "source": [
        "# Create Statistical Analysis"
      ],
      "metadata": {
        "id": "esIOeMUR6aKD"
      },
      "execution_count": null,
      "outputs": []
    }
  ],
  "metadata": {
    "kernelspec": {
      "display_name": "Python 3",
      "language": "python",
      "name": "python3"
    },
    "language_info": {
      "name": "python",
      "version": "3.10"
    },
    "colab": {
      "provenance": [],
      "include_colab_link": true
    }
  },
  "nbformat": 4,
  "nbformat_minor": 0
}