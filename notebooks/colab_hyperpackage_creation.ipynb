{
 "cells": [
  {
   "cell_type": "markdown",
   "metadata": {
    "id": "view-in-github",
    "colab_type": "text"
   },
   "source": [
    "<a href=\"https://colab.research.google.com/github/RyloByte/TS-Capstone-2025/blob/%2335_3/notebooks/colab_hyperpackage_creation.ipynb\" target=\"_parent\"><img src=\"https://colab.research.google.com/assets/colab-badge.svg\" alt=\"Open In Colab\"/></a>"
   ]
  },
  {
   "cell_type": "markdown",
   "source": [
    "# Hyperpackage Creation and Assign v1.0\n",
    "\n",
    "This Colab notebook provides a streamlined, user-friendly interface for running the **Hyperpackage Creation** workflow.  \n",
    "It is built on top of a Snakemake-based pipeline that extends the capabilities of [TreeSAPP](https://github.com/hallamlab/TreeSAPP) by enabling the automated construction of **composite reference packages** — also known as hyperpackages.\n",
    "\n",
    "Unlike traditional methods that rely on manually curated protein sets, this workflow clusters sequences by **functional homology**, using identifiers such as **Rhea IDs**, **Enzyme Commission (EC) numbers**, or other biochemical groupings. It integrates protein structure and sequence similarity to construct phylogenetic reference packages that are both robust and scalable.\n",
    "\n",
    "Use the guided steps in this notebook to:\n",
    "- Configure and run the Snakemake pipeline\n",
    "- Build your own hyperpackage based on a selected identifier\n",
    "- Assign query sequences using TreeSAPP\n",
    "- Download your resulting assigned hyperpackage\n",
    "\n",
    "For more details, refer to the original project repository on GitHub: \\\\\n",
    "https://github.com/RyloByte/TS-Capstone-2025"
   ],
   "metadata": {
    "id": "49aloJ01y5tR"
   }
  },
  {
   "cell_type": "code",
   "execution_count": null,
   "metadata": {
    "id": "e4a5Vfleyeaw",
    "cellView": "form"
   },
   "outputs": [],
   "source": [
    "#@title Install Dependencies\n",
    "#@markdown 📦 *Time to build your bioinformatics toolbox!*  \\\\\n",
    "#@markdown This step installs everything you need to run the workflow — including **Snakemake**, **Miniconda**, and your **project files** from GitHub 🧬💻  \\\\\n",
    "#@markdown Give it a minute or two — we’re setting up your scientific command center! 🚀🧪\n",
    "!cd /content\n",
    "!git clone https://github.com/RyloByte/TS-Capstone-2025.git\n",
    "%cd TS-Capstone-2025\n",
    "!cp config.yaml.example config.yaml\n",
    "\n",
    "!apt-get update && apt-get install -y graphviz\n",
    "\n",
    "!wget https://repo.anaconda.com/miniconda/Miniconda3-latest-Linux-x86_64.sh -O miniconda.sh\n",
    "!bash miniconda.sh -bfp /usr/local\n",
    "!conda install -q -y --prefix /usr/local python=3.10\n",
    "\n",
    "import sys\n",
    "import os\n",
    "sys.path.append(\"/usr/local/lib/python3.10/site-packages\")\n",
    "os.environ[\"PATH\"] = \"/usr/local/bin:\" + os.environ[\"PATH\"]\n",
    "\n",
    "!conda env create -f environment.yaml\n",
    "\n",
    "# Setup shell to allow conda activation\n",
    "!eval \"$(/usr/local/bin/conda shell.bash hook)\""
   ]
  },
  {
   "cell_type": "markdown",
   "source": [
    "# Hyperpackage Creation"
   ],
   "metadata": {
    "id": "xrGyc9r_zD9D"
   }
  },
  {
   "cell_type": "code",
   "source": [
    "#@title Configuration\n",
    "#@markdown 🧪 Choose the type of identifier you're using for your reaction of interest!  \\\\\n",
    "#@markdown You can select either a **Rhea ID** (from the [Rhea: Annotated Reactions Database](https://www.rhea-db.org))\n",
    "#@markdown or an **EC Number** (from the [Enzyme Commission classification system](https://enzyme.expasy.org/)).\n",
    "#@markdown\n",
    "#@markdown 🔹 Use **Rhea ID** for specific biochemical reactions (e.g., `10596`)\n",
    "#@markdown 🔹 Use **EC Number** for general enzyme classifications (e.g., `1.1.1.1`)\n",
    "#@markdown\n",
    "#@markdown 💡 Once selected, your input will be used to name your dataset accordingly. Let's get naming! 🏷️\n",
    "ID_type = 'Rhea-ID' #@param [\"Rhea-ID\", \"EC-Number\"]{allow-input: false}\n",
    "ID = '10596' #@param {type:\"string\"}\n",
    "\n",
    "if ID_type == 'Rhea-ID':\n",
    "    sample = 'rhea_' + ID\n",
    "elif ID_type == 'EC-Number':\n",
    "    sample = 'ec_' + ID"
   ],
   "metadata": {
    "id": "l5uXDqdL6O9j",
    "collapsed": true,
    "cellView": "form"
   },
   "execution_count": 2,
   "outputs": []
  },
  {
   "cell_type": "code",
   "source": [
    "#@title Advanced Configuration - Fully Editable Settings { display-mode: \"form\" }\n",
    "\n",
    "#@markdown ✨ Welcome to the config garden! 🌿\n",
    "#@markdown Here you can fine-tune every step of your workflow — from chunking UniProt data to clustering sequences and assigning taxonomy.\n",
    "#@markdown Play with the knobs and sliders 🎛️, grow your hyperpackage your way! 💚 \\\\\n",
    "\n",
    "#@markdown No need to run this cell if you plan to use the default settings!\n",
    "\n",
    "#@markdown ---\n",
    "#@markdown ### 🧱 Cluster Database Settings\n",
    "#@markdown These settings control how the UniProt data is chunked during preprocessing.\n",
    "#@markdown - `chunk_size`: Number of sequences per chunk when breaking up the input data.\n",
    "Chunk_Size = 10_000_000  #@param {type:\"integer\", min:1}\n",
    "\n",
    "#@markdown ---\n",
    "#@markdown ### 🧬 Structure Clustering Settings\n",
    "#@markdown Controls thresholds for accepting structure-based clusters.\n",
    "#@markdown - `min_cluster_size`: Minimum number of sequences in a structural cluster to keep.\n",
    "#@markdown - `max_cluster_size`: Maximum size of a cluster (set to `None` to disable filtering).\n",
    "Min_StructCluster_Size = 5  #@param {type:\"integer\", min:1}\n",
    "Max_StructCluster_Size = None  #@param {type:\"raw\"}\n",
    "\n",
    "#@markdown ---\n",
    "#@markdown ### 🔗 Sequence Clustering Settings\n",
    "#@markdown Defines behavior for clustering by sequence similarity using MMseqs2.\n",
    "#@markdown - `mute_mmseqs`: Suppress MMseqs2 log output.\n",
    "#@markdown - `min_cluster_size`: Minimum number of sequences in a sequence-based cluster.\n",
    "#@markdown - `max_cluster_size`: Maximum size of a cluster.\n",
    "Mute_MMSeqs_Output = True  #@param {type:\"boolean\"}\n",
    "Min_SeqCluster_Size = 5  #@param {type:\"integer\", min:1}\n",
    "Max_SeqCluster_Size = None  #@param {type:\"raw\"}\n",
    "\n",
    "#@markdown ---\n",
    "#@markdown ### ⚙️ MMseqs2 Parameters\n",
    "#@markdown Fine-tune how MMseqs2 performs sequence comparisons.\n",
    "#@markdown - `-c`: Coverage threshold; filters weak alignments.\n",
    "#@markdown - `--min-seq-id`: Minimum sequence identity required.\n",
    "#@markdown - `--cov-mode`: Defines how coverage is calculated.\n",
    "#@markdown - `-k`: K-mer size for initial sequence matching.\n",
    "#@markdown - `--shuffle`: Whether to shuffle input sequences.\n",
    "#@markdown - `--remove-tmp-files`: Whether to delete temp files.\n",
    "#@markdown - `--alignment-mode`: Type of alignment (e.g. local/global).\n",
    "#@markdown - `--realign`: Whether to perform realignment.\n",
    "Min_Cov_Threshold = 0.8  #@param {type:\"number\", min:0.0, max:1.0}\n",
    "Min_Seq_ID = 0.9  #@param {type:\"number\", min:0.0, max:1.0}\n",
    "Cov_Mode = 5  #@param {type:\"integer\", min:0, max:5}\n",
    "Kmer_size = 15  #@param {type:\"integer\", min:1}\n",
    "Shuffle = 0  #@param [0, 1]\n",
    "Remove_Temp_Files = 0  #@param [0, 1]\n",
    "Alignment_Mode = 3  #@param {type:\"integer\", min:0, max:3}\n",
    "Realign = 1  #@param [0, 1]\n",
    "\n",
    "#@markdown ---\n",
    "#@markdown ### 🌲 TreeSAPP Create Settings\n",
    "#@markdown Configures how TreeSAPP builds the reference package.\n",
    "#@markdown - `mute_treesapp`: Suppress TreeSAPP creation output.\n",
    "#@markdown - `extra_args`: Extra command-line flags passed to TreeSAPP.\n",
    "Mute_TreeSAPP_Output = True  #@param {type:\"boolean\"}\n",
    "Extra_Arguments = \"--headless\"  #@param {type:\"string\"}\n",
    "\n",
    "#@markdown ---\n",
    "#@markdown ### 🌳 TreeSAPP Assign Settings\n",
    "#@markdown Controls TreeSAPP behavior during sample assignment.\n",
    "#@markdown - `mute_treesapp`: Suppress TreeSAPP assignment output.\n",
    "#@markdown - `extra_args`: Extra options like `-m prot`, `--trim_align`, or `-n <threads>`.\n",
    "Mute_TreeSAPP_Assign_Output = True  #@param {type:\"boolean\"}\n",
    "Assign_Extra_Arguments = \"-m prot --trim_align -n 2\"  #@param {type:\"string\"}\n",
    "\n",
    "# ------------------- YAML Generation -------------------\n",
    "!pip install -q pyyaml\n",
    "import yaml\n",
    "\n",
    "config = {\n",
    "    \"cluster_db\": {\n",
    "        \"filter_by_sprot\": True,\n",
    "        \"chunk_size\": Chunk_Size,\n",
    "    },\n",
    "    \"structure_clustering\": {\n",
    "        \"min_cluster_size\": Min_StructCluster_Size,\n",
    "        \"max_cluster_size\": Max_StructCluster_Size,\n",
    "    },\n",
    "    \"sequence_clustering\": {\n",
    "        \"mute_mmseqs\": Mute_MMSeqs_Output,\n",
    "        \"min_cluster_size\": Min_SeqCluster_Size,\n",
    "        \"max_cluster_size\": Max_SeqCluster_Size,\n",
    "        \"mmseqs_args\": [\n",
    "            f\"-c {Min_Cov_Threshold}\",\n",
    "            f\"--min-seq-id {Min_Seq_ID}\",\n",
    "            f\"--cov-mode {Cov_Mode}\",\n",
    "            f\"-k {Kmer_size}\",\n",
    "            f\"--shuffle {Shuffle}\",\n",
    "            f\"--remove-tmp-files {Remove_Temp_Files}\",\n",
    "            f\"--alignment-mode {Alignment_Mode}\",\n",
    "            f\"--realign {Realign}\",\n",
    "        ]\n",
    "    },\n",
    "    \"treesapp_create\": {\n",
    "        \"mute_treesapp\": Mute_TreeSAPP_Output,\n",
    "        \"extra_args\": Extra_Arguments.split() if Extra_Arguments else [],\n",
    "    },\n",
    "    \"treesapp_assign\": {\n",
    "        \"mute_treesapp\": Mute_TreeSAPP_Assign_Output,\n",
    "        \"extra_args\": Assign_Extra_Arguments.split() if Assign_Extra_Arguments else []\n",
    "    }\n",
    "}\n",
    "\n",
    "# Write YAML to file\n",
    "with open(\"config.yaml\", \"w\") as f:\n",
    "    yaml.dump(config, f, default_flow_style=False)\n",
    "\n",
    "print(\"✅ Config file saved as `config.yaml`\")"
   ],
   "metadata": {
    "id": "r1BpT7O75QUv"
   },
   "execution_count": null,
   "outputs": []
  },
  {
   "cell_type": "code",
   "source": [
    "#@title 🌱 Run TreeSAPP Create\n",
    "#@markdown ⏳ *Time to let the trees grow...*  \\\\\n",
    "#@markdown This step will build your beautiful hyperpackages 🌳 — As long as this cell is running, trust the process! It may take **20 minutes or more** and some clusters take longer than others, so feel free to grab a tea 🍵 or read over some of the references at the bottom while you wait!\n",
    "%%bash\n",
    "source /usr/local/etc/profile.d/conda.sh\n",
    "conda activate snakemake_env\n",
    "\n",
    "snakemake --cores 2 --use-conda results/hyperpackages/{sample}.refpkg.tar.gz"
   ],
   "metadata": {
    "collapsed": true,
    "cellView": "form",
    "id": "RxWJxcUhvhgc"
   },
   "execution_count": null,
   "outputs": []
  },
  {
   "cell_type": "code",
   "source": [
    "#@title 📦 Save Your Hyperpackage\n",
    "#@markdown 🎁 *Wrapping up your hard work...*  \\\\\n",
    "#@markdown 🏡 We’re zipping up your shiny new hyperpackage so you can take it home. \\\\\n",
    "#@markdown Run this cell to download when it’s ready and keep it safe!\n",
    "\n",
    "from google.colab import files\n",
    "import os\n",
    "import shutil\n",
    "\n",
    "# Updated folder path\n",
    "folder_path = \"results/hyperpackages\"\n",
    "if os.path.isdir(folder_path):\n",
    "  shutil.make_archive(\"hyperpackages\", \"zip\", folder_path)\n",
    "  filepath = \"hyperpackages.zip\"\n",
    "  files.download(filepath)"
   ],
   "metadata": {
    "id": "lttqz06n6dxR",
    "cellView": "form",
    "outputId": "e8140a7e-26f5-480c-c84c-34888fe25639",
    "colab": {
     "base_uri": "https://localhost:8080/",
     "height": 17
    }
   },
   "execution_count": 14,
   "outputs": [
    {
     "output_type": "display_data",
     "data": {
      "text/plain": [
       "<IPython.core.display.Javascript object>"
      ],
      "application/javascript": [
       "\n",
       "    async function download(id, filename, size) {\n",
       "      if (!google.colab.kernel.accessAllowed) {\n",
       "        return;\n",
       "      }\n",
       "      const div = document.createElement('div');\n",
       "      const label = document.createElement('label');\n",
       "      label.textContent = `Downloading \"${filename}\": `;\n",
       "      div.appendChild(label);\n",
       "      const progress = document.createElement('progress');\n",
       "      progress.max = size;\n",
       "      div.appendChild(progress);\n",
       "      document.body.appendChild(div);\n",
       "\n",
       "      const buffers = [];\n",
       "      let downloaded = 0;\n",
       "\n",
       "      const channel = await google.colab.kernel.comms.open(id);\n",
       "      // Send a message to notify the kernel that we're ready.\n",
       "      channel.send({})\n",
       "\n",
       "      for await (const message of channel.messages) {\n",
       "        // Send a message to notify the kernel that we're ready.\n",
       "        channel.send({})\n",
       "        if (message.buffers) {\n",
       "          for (const buffer of message.buffers) {\n",
       "            buffers.push(buffer);\n",
       "            downloaded += buffer.byteLength;\n",
       "            progress.value = downloaded;\n",
       "          }\n",
       "        }\n",
       "      }\n",
       "      const blob = new Blob(buffers, {type: 'application/binary'});\n",
       "      const a = document.createElement('a');\n",
       "      a.href = window.URL.createObjectURL(blob);\n",
       "      a.download = filename;\n",
       "      div.appendChild(a);\n",
       "      a.click();\n",
       "      div.remove();\n",
       "    }\n",
       "  "
      ]
     },
     "metadata": {}
    },
    {
     "output_type": "display_data",
     "data": {
      "text/plain": [
       "<IPython.core.display.Javascript object>"
      ],
      "application/javascript": [
       "download(\"download_bcfc70c8-fffb-474e-948a-1e13224feeb2\", \"hyperpackages.zip\", 9201618)"
      ]
     },
     "metadata": {}
    }
   ]
  },
  {
   "cell_type": "code",
   "source": [
    "#@title 🌿 TreeSAPP Assign Steps\n",
    "#@markdown 🧬 *Ready to assign your sequences to their place in the tree of life?* 🌍   \\\\\n",
    "#@markdown Follow these simple steps to get started with **TreeSAPP assign**:  \\\\\n",
    "#@markdown 1️⃣ Place your input `.fasta` file into the `TS-Capstone-2025/data/assign_fastas` folder.  \\\\\n",
    "#@markdown 2️⃣ Enter the name of your file **without the `.fasta` extension** below 👇\n",
    "\n",
    "\n",
    "fasta = \"geneX\"  #@param {type:\"string\"}\n",
    "\n",
    "#@markdown ⚙️ Any extra parameters should be added in the **Advanced Configuration** section above under the **TreeSAPP Assign Settings** 🌟\n"
   ],
   "metadata": {
    "cellView": "form",
    "id": "6bGlHgunfJ0P"
   },
   "execution_count": 16,
   "outputs": []
  },
  {
   "cell_type": "code",
   "source": [
    "#@title 🌿 Run TreeSAPP Assign\n",
    "#@markdown 🧭 This step runs **TreeSAPP assign** to classify your sequences using the reference hyperpackage you built earlier 🧬🔍\n",
    "#@markdown\n",
    "#@markdown It uses the input from the **Advanced Configuration** section and your `.fasta` file name from the previous step — so make sure those are all set!\n",
    "#@markdown Once you're all set up, run this cell! 🌱✨\n",
    "%%bash\n",
    "source /usr/local/etc/profile.d/conda.sh\n",
    "conda activate snakemake_env\n",
    "\n",
    "!snakemake --use-conda --cores 2 results/assigned_hyperpackages/{fasta}/{sample}.refpkg.tar.gz"
   ],
   "metadata": {
    "cellView": "form",
    "id": "l_UHo2XFqUwk"
   },
   "execution_count": null,
   "outputs": []
  },
  {
   "cell_type": "code",
   "source": [
    "#@title 📦 Save Assigned Hyperpackage\n",
    "#@markdown This step zips up the results from **TreeSAPP assign** so you can download them and keep them safe 🧳🧬 \\\\\n",
    "#@markdown Your freshly labeled hyperpackage is now ready to explore, share, or take on new adventures 🌍💌\n",
    "\n",
    "from google.colab import files\n",
    "import os\n",
    "import shutil\n",
    "\n",
    "folder_path = \"results/assigned_hyperpackages\"\n",
    "if os.path.isdir(folder_path):\n",
    "  shutil.make_archive(\"assigned_hyperpackages\", \"zip\", folder_path)\n",
    "  filepath = \"assigned_hyperpackages.zip\"\n",
    "  files.download(filepath)"
   ],
   "metadata": {
    "cellView": "form",
    "id": "h7saf6tG2pvD",
    "outputId": "6577268b-3948-4e63-f806-8e576271c232",
    "colab": {
     "base_uri": "https://localhost:8080/",
     "height": 17
    }
   },
   "execution_count": 19,
   "outputs": [
    {
     "output_type": "display_data",
     "data": {
      "text/plain": [
       "<IPython.core.display.Javascript object>"
      ],
      "application/javascript": [
       "\n",
       "    async function download(id, filename, size) {\n",
       "      if (!google.colab.kernel.accessAllowed) {\n",
       "        return;\n",
       "      }\n",
       "      const div = document.createElement('div');\n",
       "      const label = document.createElement('label');\n",
       "      label.textContent = `Downloading \"${filename}\": `;\n",
       "      div.appendChild(label);\n",
       "      const progress = document.createElement('progress');\n",
       "      progress.max = size;\n",
       "      div.appendChild(progress);\n",
       "      document.body.appendChild(div);\n",
       "\n",
       "      const buffers = [];\n",
       "      let downloaded = 0;\n",
       "\n",
       "      const channel = await google.colab.kernel.comms.open(id);\n",
       "      // Send a message to notify the kernel that we're ready.\n",
       "      channel.send({})\n",
       "\n",
       "      for await (const message of channel.messages) {\n",
       "        // Send a message to notify the kernel that we're ready.\n",
       "        channel.send({})\n",
       "        if (message.buffers) {\n",
       "          for (const buffer of message.buffers) {\n",
       "            buffers.push(buffer);\n",
       "            downloaded += buffer.byteLength;\n",
       "            progress.value = downloaded;\n",
       "          }\n",
       "        }\n",
       "      }\n",
       "      const blob = new Blob(buffers, {type: 'application/binary'});\n",
       "      const a = document.createElement('a');\n",
       "      a.href = window.URL.createObjectURL(blob);\n",
       "      a.download = filename;\n",
       "      div.appendChild(a);\n",
       "      a.click();\n",
       "      div.remove();\n",
       "    }\n",
       "  "
      ]
     },
     "metadata": {}
    },
    {
     "output_type": "display_data",
     "data": {
      "text/plain": [
       "<IPython.core.display.Javascript object>"
      ],
      "application/javascript": [
       "download(\"download_a6059ac1-e7d7-45b2-8163-410fb01799ac\", \"assigned_hyperpackages.zip\", 1131825)"
      ]
     },
     "metadata": {}
    }
   ]
  },
  {
   "cell_type": "code",
   "source": [
    "#@title 📚 References:\n",
    "#@markdown 🔗 Here are some helpful links to guide your journey through hyperpackage creation and taxonomy assignment 🌱🔬\n",
    "#@markdown\n",
    "#@markdown 🔹 **Hyperpackage Creation Repo**\n",
    "#@markdown https://github.com/RyloByte/TS-Capstone-2025\n",
    "#@markdown\n",
    "#@markdown 🔹 **TreeSAPP Repository**\n",
    "#@markdown https://github.com/hallamlab/TreeSAPP\n",
    "#@markdown\n",
    "#@markdown 🔹 **TreeSAPP Tutorial + Docs**\n",
    "#@markdown https://educe-ubc.github.io/MICB425/a-tutorial-for-using-treesapp.html"
   ],
   "metadata": {
    "id": "esIOeMUR6aKD",
    "cellView": "form"
   },
   "execution_count": 6,
   "outputs": []
  }
 ],
 "metadata": {
  "kernelspec": {
   "display_name": "Python 3",
   "language": "python",
   "name": "python3"
  },
  "language_info": {
   "name": "python",
   "version": "3.10"
  },
  "colab": {
   "provenance": [],
   "include_colab_link": true
  }
 },
 "nbformat": 4,
 "nbformat_minor": 0
}
